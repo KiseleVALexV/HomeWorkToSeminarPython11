{
 "cells": [
  {
   "attachments": {},
   "cell_type": "markdown",
   "id": "6817d7dc",
   "metadata": {},
   "source": [
    "## f(x) = -12x^4*sin(cos(x)) - 18x^3+5x^2 + 10x - 30\n",
    "\n",
    "* Определить корни\n",
    "\n",
    "* Найти интервалы, на которых функция возрастает\n",
    "\n",
    "* Найти интервалы, на которых функция убывает\n",
    "\n",
    "* Построить график\n",
    "\n",
    "* Вычислить вершину\n",
    "\n",
    "* Определить промежутки, на котором f > 0\n",
    "\n",
    "* Определить промежутки, на котором f < 0"
   ]
  },
  {
   "cell_type": "code",
   "execution_count": 2,
   "id": "3071c40d",
   "metadata": {},
   "outputs": [],
   "source": [
    "from sympy import *\n",
    "from sympy.solvers import solve\n",
    "from sympy.plotting import plot as plt"
   ]
  },
  {
   "cell_type": "code",
   "execution_count": 3,
   "id": "29ca8f38",
   "metadata": {},
   "outputs": [],
   "source": [
    "x = Symbol('x')"
   ]
  },
  {
   "cell_type": "code",
   "execution_count": 4,
   "id": "8ecfef90",
   "metadata": {},
   "outputs": [],
   "source": [
    "fx = (-12)*x**4*sin(cos(x)) - 18*x**3+5*x**2 + 10*x - 30"
   ]
  },
  {
   "attachments": {},
   "cell_type": "markdown",
   "id": "55ef4256",
   "metadata": {},
   "source": [
    "Определение корней:"
   ]
  },
  {
   "cell_type": "code",
   "execution_count": 5,
   "id": "8284a211",
   "metadata": {},
   "outputs": [
    {
     "data": {
      "text/latex": [
       "$\\displaystyle \\left\\{x\\; \\middle|\\; x \\in \\mathbb{C} \\wedge - 12 x^{4} \\sin{\\left(\\cos{\\left(x \\right)} \\right)} - 18 x^{3} + 5 x^{2} + 10 x - 30 = 0 \\right\\}$"
      ],
      "text/plain": [
       "ConditionSet(x, Eq(-12*x**4*sin(cos(x)) - 18*x**3 + 5*x**2 + 10*x - 30, 0), Complexes)"
      ]
     },
     "execution_count": 5,
     "metadata": {},
     "output_type": "execute_result"
    }
   ],
   "source": [
    "r_roots = solveset(fx,x)\n",
    "r_roots"
   ]
  },
  {
   "cell_type": "code",
   "execution_count": 6,
   "id": "5a6d7362",
   "metadata": {},
   "outputs": [
    {
     "data": {
      "text/latex": [
       "$\\displaystyle 12 x^{4} \\sin{\\left(x \\right)} \\cos{\\left(\\cos{\\left(x \\right)} \\right)} - 48 x^{3} \\sin{\\left(\\cos{\\left(x \\right)} \\right)} - 54 x^{2} + 10 x + 10$"
      ],
      "text/plain": [
       "12*x**4*sin(x)*cos(cos(x)) - 48*x**3*sin(cos(x)) - 54*x**2 + 10*x + 10"
      ]
     },
     "execution_count": 6,
     "metadata": {},
     "output_type": "execute_result"
    }
   ],
   "source": [
    "diff(fx)"
   ]
  },
  {
   "attachments": {},
   "cell_type": "markdown",
   "id": "aa73753d",
   "metadata": {},
   "source": [
    "Интервалы возрастания функции:"
   ]
  },
  {
   "cell_type": "code",
   "execution_count": 7,
   "id": "e369ef6f",
   "metadata": {},
   "outputs": [
    {
     "data": {
      "text/latex": [
       "$\\displaystyle \\left\\{x\\; \\middle|\\; x \\in \\mathbb{R} \\wedge 12 x^{4} \\sin{\\left(x \\right)} \\cos{\\left(\\cos{\\left(x \\right)} \\right)} - 48 x^{3} \\sin{\\left(\\cos{\\left(x \\right)} \\right)} - 54 x^{2} + 10 x + 10 > 0 \\right\\}$"
      ],
      "text/plain": [
       "ConditionSet(x, 12*x**4*sin(x)*cos(cos(x)) - 48*x**3*sin(cos(x)) - 54*x**2 + 10*x + 10 > 0, Reals)"
      ]
     },
     "execution_count": 7,
     "metadata": {},
     "output_type": "execute_result"
    }
   ],
   "source": [
    "solveset(diff(fx)>0, domain=S.Reals)"
   ]
  },
  {
   "attachments": {},
   "cell_type": "markdown",
   "id": "0947a866",
   "metadata": {},
   "source": [
    "Интервалы убывания функции:"
   ]
  },
  {
   "cell_type": "code",
   "execution_count": 8,
   "id": "8cca34fb",
   "metadata": {},
   "outputs": [
    {
     "data": {
      "text/latex": [
       "$\\displaystyle \\left\\{x\\; \\middle|\\; x \\in \\mathbb{R} \\wedge 12 x^{4} \\sin{\\left(x \\right)} \\cos{\\left(\\cos{\\left(x \\right)} \\right)} - 48 x^{3} \\sin{\\left(\\cos{\\left(x \\right)} \\right)} - 54 x^{2} + 10 x + 10 < 0 \\right\\}$"
      ],
      "text/plain": [
       "ConditionSet(x, 12*x**4*sin(x)*cos(cos(x)) - 48*x**3*sin(cos(x)) - 54*x**2 + 10*x + 10 < 0, Reals)"
      ]
     },
     "execution_count": 8,
     "metadata": {},
     "output_type": "execute_result"
    }
   ],
   "source": [
    "solveset(diff(fx)<0, domain=S.Reals)"
   ]
  },
  {
   "cell_type": "code",
   "execution_count": 19,
   "id": "bfa3b93f",
   "metadata": {},
   "outputs": [
    {
     "name": "stdout",
     "output_type": "stream",
     "text": [
      "  2e+07 |.                                                      \n",
      "        |                                                      .\n",
      "        |                                                       \n",
      "        |                                                       \n",
      "        |    .                                             .    \n",
      "        |   .                                                   \n",
      "        |                                                   .   \n",
      "        |        .                                     .        \n",
      "        |                                                       \n",
      "        |       .    .                             .            \n",
      "  1e+06 |---------.---\\--..--..------------.--..--/-----.-------\n",
      "        |           .  ..  ..  ............ ..  ..  . .         \n",
      "        |                                                       \n",
      "        |     .    .                                 .          \n",
      "        |                                                 .     \n",
      "        |      .                                                \n",
      "        |                                                .      \n",
      "        |                                                       \n",
      "        |  .                                                    \n",
      "        | .                                                  .  \n",
      "-1.8e+0 |_______________________________________________________\n",
      "         -40                        0                          40\n"
     ]
    }
   ],
   "source": [
    "fun = plot(fx,(x,-40,40))"
   ]
  },
  {
   "cell_type": "code",
   "execution_count": 21,
   "id": "9c7164ae",
   "metadata": {},
   "outputs": [
    {
     "name": "stdout",
     "output_type": "stream",
     "text": [
      "    590 |.                                                      \n",
      "        |                                                       \n",
      "        |                                                       \n",
      "        | .                                                     \n",
      "        |                                                       \n",
      "        |  .                                                    \n",
      "        |                                                       \n",
      "        |                                                       \n",
      "        |   .                                                   \n",
      "        |                                                       \n",
      "    260 |----.--------------------------------------------------\n",
      "        |     .                                                 \n",
      "        |                                                       \n",
      "        |      .                                                \n",
      "        |       \\                                               \n",
      "        |        \\                                             .\n",
      "        |         \\                                             \n",
      "        |          ..                                        .. \n",
      "        |            ....                                   /   \n",
      "        |                .........................        ..    \n",
      "    -70 |_______________________________________________________\n",
      "         -2.5                       0                          2.5\n"
     ]
    }
   ],
   "source": [
    "fun = plot(fx,(x,-2.5,2.5))"
   ]
  },
  {
   "attachments": {},
   "cell_type": "markdown",
   "id": "aed1f8bf",
   "metadata": {},
   "source": [
    "Определение вершины:"
   ]
  },
  {
   "cell_type": "code",
   "execution_count": 11,
   "id": "74373c91",
   "metadata": {},
   "outputs": [
    {
     "data": {
      "text/latex": [
       "$\\displaystyle \\left\\{x\\; \\middle|\\; x \\in \\mathbb{C} \\wedge 12 x^{4} \\sin{\\left(x \\right)} \\cos{\\left(\\cos{\\left(x \\right)} \\right)} - 48 x^{3} \\sin{\\left(\\cos{\\left(x \\right)} \\right)} - 54 x^{2} + 10 x + 10 = 0 \\right\\}$"
      ],
      "text/plain": [
       "ConditionSet(x, Eq(12*x**4*sin(x)*cos(cos(x)) - 48*x**3*sin(cos(x)) - 54*x**2 + 10*x + 10, 0), Complexes)"
      ]
     },
     "execution_count": 11,
     "metadata": {},
     "output_type": "execute_result"
    }
   ],
   "source": [
    "solveset(diff(fx))"
   ]
  },
  {
   "attachments": {},
   "cell_type": "markdown",
   "id": "020f2b2e",
   "metadata": {},
   "source": [
    "Определение промежутков, на котором f > 0"
   ]
  },
  {
   "cell_type": "code",
   "execution_count": 12,
   "id": "09cc93da",
   "metadata": {},
   "outputs": [
    {
     "data": {
      "text/latex": [
       "$\\displaystyle \\left\\{x\\; \\middle|\\; x \\in \\mathbb{R} \\wedge - 12 x^{4} \\sin{\\left(\\cos{\\left(x \\right)} \\right)} - 18 x^{3} + 5 x^{2} + 10 x - 30 > 0 \\right\\}$"
      ],
      "text/plain": [
       "ConditionSet(x, -12*x**4*sin(cos(x)) - 18*x**3 + 5*x**2 + 10*x - 30 > 0, Reals)"
      ]
     },
     "execution_count": 12,
     "metadata": {},
     "output_type": "execute_result"
    }
   ],
   "source": [
    "solveset(fx>0, domain=S.Reals)"
   ]
  },
  {
   "attachments": {},
   "cell_type": "markdown",
   "id": "17c38801",
   "metadata": {},
   "source": [
    "Определение промежутков, на котором f < 0"
   ]
  },
  {
   "cell_type": "code",
   "execution_count": 13,
   "id": "93f9b87f",
   "metadata": {},
   "outputs": [
    {
     "data": {
      "text/latex": [
       "$\\displaystyle \\left\\{x\\; \\middle|\\; x \\in \\mathbb{R} \\wedge - 12 x^{4} \\sin{\\left(\\cos{\\left(x \\right)} \\right)} - 18 x^{3} + 5 x^{2} + 10 x - 30 < 0 \\right\\}$"
      ],
      "text/plain": [
       "ConditionSet(x, -12*x**4*sin(cos(x)) - 18*x**3 + 5*x**2 + 10*x - 30 < 0, Reals)"
      ]
     },
     "execution_count": 13,
     "metadata": {},
     "output_type": "execute_result"
    }
   ],
   "source": [
    "solveset(fx<0, domain=S.Reals)"
   ]
  },
  {
   "attachments": {},
   "cell_type": "markdown",
   "id": "401f1a44",
   "metadata": {},
   "source": [
    "На определенном интервале:"
   ]
  },
  {
   "cell_type": "code",
   "execution_count": 14,
   "id": "eabcdb96",
   "metadata": {},
   "outputs": [
    {
     "name": "stdout",
     "output_type": "stream",
     "text": [
      "x: -11  y: 23645.4428073991\n",
      "x: -10  y: 107652.769512485\n",
      "x: -9  y: 75620.7845886376\n",
      "x: -8  y: 16552.4107577018\n",
      "x: -7  y: -13402.4912765752\n",
      "x: -6  y: -8763.58593731879\n",
      "x: -5  y: 195.949869236044\n",
      "x: -4  y: 3030.03100561643\n",
      "x: -3  y: 1283.61324941467\n",
      "x: -2  y: 191.613917539635\n",
      "x: -1  y: -23.1727431022826\n",
      "x: 0  y: -30.0000000000000\n",
      "x: 1  y: -39.1727431022826\n",
      "x: 2  y: -56.3860824603650\n",
      "x: 3  y: 371.613249414674\n",
      "x: 4  y: 806.031005616432\n",
      "x: 5  y: -4204.05013076396\n",
      "x: 6  y: -16419.5859373188\n",
      "x: 7  y: -25610.4912765752\n",
      "x: 8  y: -1719.58924229818\n",
      "x: 9  y: 49556.7845886376\n",
      "x: 10  y: 71852.7695124845\n"
     ]
    }
   ],
   "source": [
    "for i in range(-11, 11):\n",
    "  print(\"x:\", i, \" y:\", N(fx.subs(x, i)))"
   ]
  },
  {
   "attachments": {},
   "cell_type": "markdown",
   "id": "a0636b54",
   "metadata": {},
   "source": [
    "Корни:"
   ]
  },
  {
   "cell_type": "code",
   "execution_count": 15,
   "id": "1661768b",
   "metadata": {},
   "outputs": [
    {
     "data": {
      "text/plain": [
       "[-11.1338, -7.65062, -5.02687, -1.33897, 2.27306, 4.38352, 8.03516]"
      ]
     },
     "execution_count": 15,
     "metadata": {},
     "output_type": "execute_result"
    }
   ],
   "source": [
    "roots = [nsolve(fx,x,i).n(6) for i in range(-11,11,2)]\n",
    "list(dict.fromkeys(roots))\n"
   ]
  },
  {
   "attachments": {},
   "cell_type": "markdown",
   "id": "4968b17b",
   "metadata": {},
   "source": [
    "Вершины:"
   ]
  },
  {
   "cell_type": "code",
   "execution_count": 16,
   "id": "788710f6",
   "metadata": {},
   "outputs": [
    {
     "data": {
      "text/latex": [
       "$\\displaystyle 1.70061$"
      ],
      "text/plain": [
       "1.70061"
      ]
     },
     "execution_count": 16,
     "metadata": {},
     "output_type": "execute_result"
    }
   ],
   "source": [
    "peak = nsolve(diff(fx),x,2).n(6)\n",
    "peak"
   ]
  },
  {
   "cell_type": "code",
   "execution_count": 17,
   "id": "a76ccc5a",
   "metadata": {},
   "outputs": [
    {
     "data": {
      "text/plain": [
       "[-9.97895,\n",
       " -6.83137,\n",
       " -4.16778,\n",
       " -0.392677,\n",
       " 0.454574,\n",
       " 1.70061,\n",
       " 3.81931,\n",
       " 7.00103,\n",
       " 9.87715]"
      ]
     },
     "execution_count": 17,
     "metadata": {},
     "output_type": "execute_result"
    }
   ],
   "source": [
    "peaks = [nsolve(diff(fx),x,i).n(6) for i in range(-11,12,3)]\n",
    "peaks.append(nsolve(diff(fx),x,2).n(6))\n",
    "sorted(peaks)"
   ]
  }
 ],
 "metadata": {
  "kernelspec": {
   "display_name": "Python 3",
   "language": "python",
   "name": "python3"
  },
  "language_info": {
   "codemirror_mode": {
    "name": "ipython",
    "version": 3
   },
   "file_extension": ".py",
   "mimetype": "text/x-python",
   "name": "python",
   "nbconvert_exporter": "python",
   "pygments_lexer": "ipython3",
   "version": "3.10.9"
  },
  "vscode": {
   "interpreter": {
    "hash": "ec5f34180bdfc60e30ab6e385649a2dafc9839f42d861a46ef6a475bc3856a8a"
   }
  }
 },
 "nbformat": 4,
 "nbformat_minor": 5
}
