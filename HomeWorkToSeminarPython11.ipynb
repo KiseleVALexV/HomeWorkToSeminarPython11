{
  "nbformat": 4,
  "nbformat_minor": 0,
  "metadata": {
    "colab": {
      "provenance": [],
      "authorship_tag": "ABX9TyN/z/wyVwre4N1AEh9tf3TS",
      "include_colab_link": true
    },
    "kernelspec": {
      "name": "python3",
      "display_name": "Python 3"
    },
    "language_info": {
      "name": "python"
    }
  },
  "cells": [
    {
      "cell_type": "markdown",
      "metadata": {
        "id": "view-in-github",
        "colab_type": "text"
      },
      "source": [
        "<a href=\"https://colab.research.google.com/github/KiseleVALexV/HomeWorkToSeminarPython11/blob/main/HomeWorkToSeminarPython11.ipynb\" target=\"_parent\"><img src=\"https://colab.research.google.com/assets/colab-badge.svg\" alt=\"Open In Colab\"/></a>"
      ]
    },
    {
      "cell_type": "markdown",
      "source": [
        "## f(x) = -12x^4*sin(cos(x)) - 18x^3+5x^2 + 10x - 30\n",
        "\n",
        "* Определить корни\n",
        "\n",
        "* Найти интервалы, на которых функция возрастает\n",
        "\n",
        "* Найти интервалы, на которых функция убывает\n",
        "\n",
        "* Построить график\n",
        "\n",
        "* Вычислить вершину\n",
        "\n",
        "* Определить промежутки, на котором f > 0\n",
        "\n",
        "* Определить промежутки, на котором f < 0"
      ],
      "metadata": {
        "id": "IUybOS7IIQSk"
      }
    },
    {
      "cell_type": "code",
      "execution_count": null,
      "metadata": {
        "id": "o7guCMIYHbb7"
      },
      "outputs": [],
      "source": [
        "from sympy import *\n",
        "from sympy.solvers import solve\n",
        "from sympy.plotting import plot as plt"
      ]
    },
    {
      "cell_type": "code",
      "source": [
        "x = Symbol('x')"
      ],
      "metadata": {
        "id": "X2K0YL-bHm4P"
      },
      "execution_count": null,
      "outputs": []
    },
    {
      "cell_type": "code",
      "source": [
        "fx = (-12)*x**4*(sin(cos(x))) - 18*x**3+5*x**2 + 10*x - 30"
      ],
      "metadata": {
        "id": "7UK-v_BjHrwu"
      },
      "execution_count": null,
      "outputs": []
    },
    {
      "cell_type": "markdown",
      "source": [
        "Определение корней:"
      ],
      "metadata": {
        "id": "aLHJzJ7FIxpJ"
      }
    },
    {
      "cell_type": "code",
      "source": [
        "r_roots = solveset(fx, x)\n",
        "r_roots"
      ],
      "metadata": {
        "colab": {
          "base_uri": "https://localhost:8080/",
          "height": 39
        },
        "id": "HO-PUIxvHxDh",
        "outputId": "81a0d12d-a39b-4e5e-fd4c-b98cd6951aa6"
      },
      "execution_count": null,
      "outputs": [
        {
          "output_type": "execute_result",
          "data": {
            "text/plain": [
              "ConditionSet(x, Eq(-12*x**4*sin(cos(x)) - 18*x**3 + 5*x**2 + 10*x - 30, 0), Complexes)"
            ],
            "text/latex": "$\\displaystyle \\left\\{x \\mid x \\in \\mathbb{C} \\wedge - 12 x^{4} \\sin{\\left(\\cos{\\left(x \\right)} \\right)} - 18 x^{3} + 5 x^{2} + 10 x - 30 = 0 \\right\\}$"
          },
          "metadata": {},
          "execution_count": 4
        }
      ]
    },
    {
      "cell_type": "code",
      "source": [
        "diff(fx)"
      ],
      "metadata": {
        "colab": {
          "base_uri": "https://localhost:8080/",
          "height": 39
        },
        "id": "fcrzmqb2e0Zq",
        "outputId": "f4253dfa-e287-40b0-8b28-311fec109894"
      },
      "execution_count": null,
      "outputs": [
        {
          "output_type": "execute_result",
          "data": {
            "text/plain": [
              "12*x**4*sin(x)*cos(cos(x)) - 48*x**3*sin(cos(x)) - 54*x**2 + 10*x + 10"
            ],
            "text/latex": "$\\displaystyle 12 x^{4} \\sin{\\left(x \\right)} \\cos{\\left(\\cos{\\left(x \\right)} \\right)} - 48 x^{3} \\sin{\\left(\\cos{\\left(x \\right)} \\right)} - 54 x^{2} + 10 x + 10$"
          },
          "metadata": {},
          "execution_count": 5
        }
      ]
    },
    {
      "cell_type": "markdown",
      "source": [
        "Интервалы возрастания функции:"
      ],
      "metadata": {
        "id": "sFcjjQ-BI7sg"
      }
    },
    {
      "cell_type": "code",
      "source": [
        "solveset(diff(fx)>0, domain=S.Reals)"
      ],
      "metadata": {
        "colab": {
          "base_uri": "https://localhost:8080/",
          "height": 39
        },
        "id": "Ttw04TMILU4N",
        "outputId": "01bc0b23-082c-4a04-c038-5995650c60a2"
      },
      "execution_count": null,
      "outputs": [
        {
          "output_type": "execute_result",
          "data": {
            "text/plain": [
              "ConditionSet(x, 12*x**4*sin(x)*cos(cos(x)) - 48*x**3*sin(cos(x)) - 54*x**2 + 10*x + 10 > 0, Reals)"
            ],
            "text/latex": "$\\displaystyle \\left\\{x \\mid x \\in \\mathbb{R} \\wedge 12 x^{4} \\sin{\\left(x \\right)} \\cos{\\left(\\cos{\\left(x \\right)} \\right)} - 48 x^{3} \\sin{\\left(\\cos{\\left(x \\right)} \\right)} - 54 x^{2} + 10 x + 10 > 0 \\right\\}$"
          },
          "metadata": {},
          "execution_count": 6
        }
      ]
    },
    {
      "cell_type": "markdown",
      "source": [
        "Интервалы убывания функции:"
      ],
      "metadata": {
        "id": "4cDIXXNOLobZ"
      }
    },
    {
      "cell_type": "code",
      "source": [
        "solveset(diff(fx)<0, domain=S.Reals)"
      ],
      "metadata": {
        "colab": {
          "base_uri": "https://localhost:8080/",
          "height": 39
        },
        "id": "qFJGFqh5L03K",
        "outputId": "454b89cf-6b77-4f19-b128-6f6efdcc364b"
      },
      "execution_count": null,
      "outputs": [
        {
          "output_type": "execute_result",
          "data": {
            "text/plain": [
              "ConditionSet(x, 12*x**4*sin(x)*cos(cos(x)) - 48*x**3*sin(cos(x)) - 54*x**2 + 10*x + 10 < 0, Reals)"
            ],
            "text/latex": "$\\displaystyle \\left\\{x \\mid x \\in \\mathbb{R} \\wedge 12 x^{4} \\sin{\\left(x \\right)} \\cos{\\left(\\cos{\\left(x \\right)} \\right)} - 48 x^{3} \\sin{\\left(\\cos{\\left(x \\right)} \\right)} - 54 x^{2} + 10 x + 10 < 0 \\right\\}$"
          },
          "metadata": {},
          "execution_count": 7
        }
      ]
    },
    {
      "cell_type": "code",
      "source": [
        "\n",
        "fun = plot(fx,(x,-40,40))"
      ],
      "metadata": {
        "colab": {
          "base_uri": "https://localhost:8080/",
          "height": 297
        },
        "id": "8QTAZ4DQH4AB",
        "outputId": "634496ae-72b6-40b6-8d97-5dc3b91abd88"
      },
      "execution_count": null,
      "outputs": [
        {
          "output_type": "display_data",
          "data": {
            "text/plain": [
              "<Figure size 432x288 with 1 Axes>"
            ],
            "image/png": "[encoded data removed]"
          },
          "metadata": {
            "needs_background": "light"
          }
        }
      ]
    },
    {
      "cell_type": "code",
      "source": [
        "fun = plot(fx,(x,-2.5,2.5))"
      ],
      "metadata": {
        "colab": {
          "base_uri": "https://localhost:8080/",
          "height": 297
        },
        "id": "x_QvvtEFo0sV",
        "outputId": "f40d4691-7c6c-4428-aac5-b9fb35de3c6d"
      },
      "execution_count": null,
      "outputs": [
        {
          "output_type": "display_data",
          "data": {
            "text/plain": [
              "<Figure size 432x288 with 1 Axes>"
            ],
            "image/png": "[encoded data removed]"
          },
          "metadata": {
            "needs_background": "light"
          }
        }
      ]
    },
    {
      "cell_type": "markdown",
      "source": [
        "Определение вершины:"
      ],
      "metadata": {
        "id": "jWJDE0jnNjTN"
      }
    },
    {
      "cell_type": "code",
      "source": [
        "solveset(diff(fx))"
      ],
      "metadata": {
        "colab": {
          "base_uri": "https://localhost:8080/",
          "height": 39
        },
        "id": "Cz8NiJW1DjiX",
        "outputId": "74d73882-2cfe-4a47-c0b9-b517a2a77a6c"
      },
      "execution_count": null,
      "outputs": [
        {
          "output_type": "execute_result",
          "data": {
            "text/plain": [
              "ConditionSet(x, Eq(12*x**4*sin(x)*cos(cos(x)) - 48*x**3*sin(cos(x)) - 54*x**2 + 10*x + 10, 0), Complexes)"
            ],
            "text/latex": "$\\displaystyle \\left\\{x \\mid x \\in \\mathbb{C} \\wedge 12 x^{4} \\sin{\\left(x \\right)} \\cos{\\left(\\cos{\\left(x \\right)} \\right)} - 48 x^{3} \\sin{\\left(\\cos{\\left(x \\right)} \\right)} - 54 x^{2} + 10 x + 10 = 0 \\right\\}$"
          },
          "metadata": {},
          "execution_count": 10
        }
      ]
    },
    {
      "cell_type": "markdown",
      "source": [
        "Определение промежутков, на котором f > 0"
      ],
      "metadata": {
        "id": "Poek_qKeNrGL"
      }
    },
    {
      "cell_type": "code",
      "source": [
        "solveset(fx>0, domain=S.Reals)"
      ],
      "metadata": {
        "colab": {
          "base_uri": "https://localhost:8080/",
          "height": 39
        },
        "id": "L_TUB4gFIpiC",
        "outputId": "10a4faeb-09bf-4d31-c0ac-bcc6f1d0cf93"
      },
      "execution_count": null,
      "outputs": [
        {
          "output_type": "execute_result",
          "data": {
            "text/plain": [
              "ConditionSet(x, -12*x**4*sin(cos(x)) - 18*x**3 + 5*x**2 + 10*x - 30 > 0, Reals)"
            ],
            "text/latex": "$\\displaystyle \\left\\{x \\mid x \\in \\mathbb{R} \\wedge - 12 x^{4} \\sin{\\left(\\cos{\\left(x \\right)} \\right)} - 18 x^{3} + 5 x^{2} + 10 x - 30 > 0 \\right\\}$"
          },
          "metadata": {},
          "execution_count": 11
        }
      ]
    },
    {
      "cell_type": "markdown",
      "source": [
        "Определение промежутков, на котором f < 0"
      ],
      "metadata": {
        "id": "pBNhF5csN8gv"
      }
    },
    {
      "cell_type": "code",
      "source": [
        "solveset(fx<0, domain=S.Reals)"
      ],
      "metadata": {
        "colab": {
          "base_uri": "https://localhost:8080/",
          "height": 39
        },
        "id": "Uo9pZHGbN_8N",
        "outputId": "5993b8d9-b788-4b0a-a0ba-25ead62b732b"
      },
      "execution_count": null,
      "outputs": [
        {
          "output_type": "execute_result",
          "data": {
            "text/plain": [
              "ConditionSet(x, -12*x**4*sin(cos(x)) - 18*x**3 + 5*x**2 + 10*x - 30 < 0, Reals)"
            ],
            "text/latex": "$\\displaystyle \\left\\{x \\mid x \\in \\mathbb{R} \\wedge - 12 x^{4} \\sin{\\left(\\cos{\\left(x \\right)} \\right)} - 18 x^{3} + 5 x^{2} + 10 x - 30 < 0 \\right\\}$"
          },
          "metadata": {},
          "execution_count": 12
        }
      ]
    },
    {
      "cell_type": "markdown",
      "source": [
        "На определенном интервале:"
      ],
      "metadata": {
        "id": "u5QTxH_rKn4f"
      }
    },
    {
      "cell_type": "code",
      "source": [
        "for i in range(-11, 11):\n",
        "  print(\"x:\", i, \" y:\", N(fx.subs(x, i)))"
      ],
      "metadata": {
        "colab": {
          "base_uri": "https://localhost:8080/"
        },
        "id": "z27V226tFqtm",
        "outputId": "e5bdaaa5-e680-49bd-b016-c93b39a6fd68"
      },
      "execution_count": null,
      "outputs": [
        {
          "output_type": "stream",
          "name": "stdout",
          "text": [
            "x: -11  y: 23645.4428073991\n",
            "x: -10  y: 107652.769512485\n",
            "x: -9  y: 75620.7845886376\n",
            "x: -8  y: 16552.4107577018\n",
            "x: -7  y: -13402.4912765752\n",
            "x: -6  y: -8763.58593731879\n",
            "x: -5  y: 195.949869236044\n",
            "x: -4  y: 3030.03100561643\n",
            "x: -3  y: 1283.61324941467\n",
            "x: -2  y: 191.613917539635\n",
            "x: -1  y: -23.1727431022826\n",
            "x: 0  y: -30.0000000000000\n",
            "x: 1  y: -39.1727431022826\n",
            "x: 2  y: -56.3860824603650\n",
            "x: 3  y: 371.613249414674\n",
            "x: 4  y: 806.031005616432\n",
            "x: 5  y: -4204.05013076396\n",
            "x: 6  y: -16419.5859373188\n",
            "x: 7  y: -25610.4912765752\n",
            "x: 8  y: -1719.58924229818\n",
            "x: 9  y: 49556.7845886376\n",
            "x: 10  y: 71852.7695124845\n"
          ]
        }
      ]
    },
    {
      "cell_type": "markdown",
      "source": [
        "Корни:"
      ],
      "metadata": {
        "id": "hQhl_EGL-1y1"
      }
    },
    {
      "cell_type": "code",
      "source": [
        "roots = [nsolve(fx,x,i).n(6) for i in range(-11,11,2)]\n",
        "list(dict.fromkeys(roots))\n"
      ],
      "metadata": {
        "colab": {
          "base_uri": "https://localhost:8080/"
        },
        "id": "hGC6LPMBJWxq",
        "outputId": "4e9c7ba5-bdb2-4dde-845a-0784e636503e"
      },
      "execution_count": null,
      "outputs": [
        {
          "output_type": "execute_result",
          "data": {
            "text/plain": [
              "[-11.1338, -7.65062, -5.02687, -1.33897, 2.27306, 4.38352, 8.03516]"
            ]
          },
          "metadata": {},
          "execution_count": 14
        }
      ]
    },
    {
      "cell_type": "markdown",
      "source": [
        "Вершины:"
      ],
      "metadata": {
        "id": "vxfny59U-7kr"
      }
    },
    {
      "cell_type": "code",
      "source": [
        "peak = nsolve(diff(fx),x,2).n(6)\n",
        "peak"
      ],
      "metadata": {
        "colab": {
          "base_uri": "https://localhost:8080/",
          "height": 37
        },
        "id": "7_1PDkuC8Ssb",
        "outputId": "149a379f-724d-4f18-d302-aa8d1ef32373"
      },
      "execution_count": null,
      "outputs": [
        {
          "output_type": "execute_result",
          "data": {
            "text/plain": [
              "1.70061"
            ],
            "text/latex": "$\\displaystyle 1.70061$"
          },
          "metadata": {},
          "execution_count": 15
        }
      ]
    },
    {
      "cell_type": "code",
      "source": [
        "peaks = [nsolve(diff(fx),x,i).n(6) for i in range(-11,12,3)]\n",
        "peaks.append(nsolve(diff(fx),x,2).n(6))\n",
        "sorted(peaks)"
      ],
      "metadata": {
        "colab": {
          "base_uri": "https://localhost:8080/"
        },
        "id": "8bt1ZXqM59Ul",
        "outputId": "2331a030-273d-4894-cce4-f091a3c0b995"
      },
      "execution_count": null,
      "outputs": [
        {
          "output_type": "execute_result",
          "data": {
            "text/plain": [
              "[-9.97895,\n",
              " -6.83137,\n",
              " -4.16778,\n",
              " -0.392677,\n",
              " 0.454574,\n",
              " 1.70061,\n",
              " 3.81931,\n",
              " 7.00103,\n",
              " 9.87715]"
            ]
          },
          "metadata": {},
          "execution_count": 16
        }
      ]
    }
  ]
}